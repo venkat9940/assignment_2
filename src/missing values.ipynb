{
 "cells": [
  {
   "cell_type": "code",
   "execution_count": 156,
   "id": "010d56d3-a4ad-49ca-bb5b-4b81674e211e",
   "metadata": {},
   "outputs": [],
   "source": [
    "import pandas as pd"
   ]
  },
  {
   "cell_type": "code",
   "execution_count": 157,
   "id": "541f223f-7227-49e2-91cc-919b18d2befc",
   "metadata": {},
   "outputs": [],
   "source": [
    "#load the datset"
   ]
  },
  {
   "cell_type": "code",
   "execution_count": 158,
   "id": "ac5d7ea5-d69e-49e7-b6c5-116264c2f79d",
   "metadata": {},
   "outputs": [],
   "source": [
    "df_cars = pd.read_csv('/Users/deekshithm/Desktop/PDS/Assignment 2/raw_cars_data/raw_cars.csv')"
   ]
  },
  {
   "cell_type": "code",
   "execution_count": 159,
   "id": "37671ad3-e0c8-4f7e-8816-5997e508130c",
   "metadata": {},
   "outputs": [
    {
     "data": {
      "text/html": [
       "<div>\n",
       "<style scoped>\n",
       "    .dataframe tbody tr th:only-of-type {\n",
       "        vertical-align: middle;\n",
       "    }\n",
       "\n",
       "    .dataframe tbody tr th {\n",
       "        vertical-align: top;\n",
       "    }\n",
       "\n",
       "    .dataframe thead th {\n",
       "        text-align: right;\n",
       "    }\n",
       "</style>\n",
       "<table border=\"1\" class=\"dataframe\">\n",
       "  <thead>\n",
       "    <tr style=\"text-align: right;\">\n",
       "      <th></th>\n",
       "      <th>Unnamed: 0</th>\n",
       "      <th>Name</th>\n",
       "      <th>Location</th>\n",
       "      <th>Year</th>\n",
       "      <th>Kilometers_Driven</th>\n",
       "      <th>Fuel_Type</th>\n",
       "      <th>Transmission</th>\n",
       "      <th>Owner_Type</th>\n",
       "      <th>Mileage</th>\n",
       "      <th>Engine</th>\n",
       "      <th>Power</th>\n",
       "      <th>Seats</th>\n",
       "      <th>New_Price</th>\n",
       "      <th>Price</th>\n",
       "    </tr>\n",
       "  </thead>\n",
       "  <tbody>\n",
       "    <tr>\n",
       "      <th>0</th>\n",
       "      <td>1</td>\n",
       "      <td>Hyundai Creta 1.6 CRDi SX Option</td>\n",
       "      <td>Pune</td>\n",
       "      <td>2015</td>\n",
       "      <td>41000</td>\n",
       "      <td>Diesel</td>\n",
       "      <td>Manual</td>\n",
       "      <td>First</td>\n",
       "      <td>19.67 kmpl</td>\n",
       "      <td>1582 CC</td>\n",
       "      <td>126.2 bhp</td>\n",
       "      <td>5.0</td>\n",
       "      <td>NaN</td>\n",
       "      <td>12.50</td>\n",
       "    </tr>\n",
       "    <tr>\n",
       "      <th>1</th>\n",
       "      <td>2</td>\n",
       "      <td>Honda Jazz V</td>\n",
       "      <td>Chennai</td>\n",
       "      <td>2011</td>\n",
       "      <td>46000</td>\n",
       "      <td>Petrol</td>\n",
       "      <td>Manual</td>\n",
       "      <td>First</td>\n",
       "      <td>13 km/kg</td>\n",
       "      <td>1199 CC</td>\n",
       "      <td>88.7 bhp</td>\n",
       "      <td>5.0</td>\n",
       "      <td>8.61 Lakh</td>\n",
       "      <td>4.50</td>\n",
       "    </tr>\n",
       "    <tr>\n",
       "      <th>2</th>\n",
       "      <td>3</td>\n",
       "      <td>Maruti Ertiga VDI</td>\n",
       "      <td>Chennai</td>\n",
       "      <td>2012</td>\n",
       "      <td>87000</td>\n",
       "      <td>Diesel</td>\n",
       "      <td>Manual</td>\n",
       "      <td>First</td>\n",
       "      <td>20.77 kmpl</td>\n",
       "      <td>1248 CC</td>\n",
       "      <td>88.76 bhp</td>\n",
       "      <td>7.0</td>\n",
       "      <td>NaN</td>\n",
       "      <td>6.00</td>\n",
       "    </tr>\n",
       "    <tr>\n",
       "      <th>3</th>\n",
       "      <td>4</td>\n",
       "      <td>Audi A4 New 2.0 TDI Multitronic</td>\n",
       "      <td>Coimbatore</td>\n",
       "      <td>2013</td>\n",
       "      <td>40670</td>\n",
       "      <td>Diesel</td>\n",
       "      <td>Automatic</td>\n",
       "      <td>Second</td>\n",
       "      <td>15.2 kmpl</td>\n",
       "      <td>1968 CC</td>\n",
       "      <td>140.8 bhp</td>\n",
       "      <td>5.0</td>\n",
       "      <td>NaN</td>\n",
       "      <td>17.74</td>\n",
       "    </tr>\n",
       "    <tr>\n",
       "      <th>4</th>\n",
       "      <td>6</td>\n",
       "      <td>Nissan Micra Diesel XV</td>\n",
       "      <td>Jaipur</td>\n",
       "      <td>2013</td>\n",
       "      <td>86999</td>\n",
       "      <td>Diesel</td>\n",
       "      <td>Manual</td>\n",
       "      <td>First</td>\n",
       "      <td>23.08 kmpl</td>\n",
       "      <td>1461 CC</td>\n",
       "      <td>63.1 bhp</td>\n",
       "      <td>5.0</td>\n",
       "      <td>NaN</td>\n",
       "      <td>3.50</td>\n",
       "    </tr>\n",
       "    <tr>\n",
       "      <th>...</th>\n",
       "      <td>...</td>\n",
       "      <td>...</td>\n",
       "      <td>...</td>\n",
       "      <td>...</td>\n",
       "      <td>...</td>\n",
       "      <td>...</td>\n",
       "      <td>...</td>\n",
       "      <td>...</td>\n",
       "      <td>...</td>\n",
       "      <td>...</td>\n",
       "      <td>...</td>\n",
       "      <td>...</td>\n",
       "      <td>...</td>\n",
       "      <td>...</td>\n",
       "    </tr>\n",
       "    <tr>\n",
       "      <th>5842</th>\n",
       "      <td>6014</td>\n",
       "      <td>Maruti Swift VDI</td>\n",
       "      <td>Delhi</td>\n",
       "      <td>2014</td>\n",
       "      <td>27365</td>\n",
       "      <td>Diesel</td>\n",
       "      <td>Manual</td>\n",
       "      <td>First</td>\n",
       "      <td>28.4 kmpl</td>\n",
       "      <td>1248 CC</td>\n",
       "      <td>74 bhp</td>\n",
       "      <td>5.0</td>\n",
       "      <td>7.88 Lakh</td>\n",
       "      <td>4.75</td>\n",
       "    </tr>\n",
       "    <tr>\n",
       "      <th>5843</th>\n",
       "      <td>6015</td>\n",
       "      <td>Hyundai Xcent 1.1 CRDi S</td>\n",
       "      <td>Jaipur</td>\n",
       "      <td>2015</td>\n",
       "      <td>100000</td>\n",
       "      <td>Diesel</td>\n",
       "      <td>Manual</td>\n",
       "      <td>First</td>\n",
       "      <td>24.4 kmpl</td>\n",
       "      <td>1120 CC</td>\n",
       "      <td>71 bhp</td>\n",
       "      <td>5.0</td>\n",
       "      <td>NaN</td>\n",
       "      <td>4.00</td>\n",
       "    </tr>\n",
       "    <tr>\n",
       "      <th>5844</th>\n",
       "      <td>6016</td>\n",
       "      <td>Mahindra Xylo D4 BSIV</td>\n",
       "      <td>Jaipur</td>\n",
       "      <td>2012</td>\n",
       "      <td>55000</td>\n",
       "      <td>Diesel</td>\n",
       "      <td>Manual</td>\n",
       "      <td>Second</td>\n",
       "      <td>14.0 kmpl</td>\n",
       "      <td>2498 CC</td>\n",
       "      <td>112 bhp</td>\n",
       "      <td>8.0</td>\n",
       "      <td>NaN</td>\n",
       "      <td>2.90</td>\n",
       "    </tr>\n",
       "    <tr>\n",
       "      <th>5845</th>\n",
       "      <td>6017</td>\n",
       "      <td>Maruti Wagon R VXI</td>\n",
       "      <td>Kolkata</td>\n",
       "      <td>2013</td>\n",
       "      <td>46000</td>\n",
       "      <td>Petrol</td>\n",
       "      <td>Manual</td>\n",
       "      <td>First</td>\n",
       "      <td>18.9 kmpl</td>\n",
       "      <td>998 CC</td>\n",
       "      <td>67.1 bhp</td>\n",
       "      <td>5.0</td>\n",
       "      <td>NaN</td>\n",
       "      <td>2.65</td>\n",
       "    </tr>\n",
       "    <tr>\n",
       "      <th>5846</th>\n",
       "      <td>6018</td>\n",
       "      <td>Chevrolet Beat Diesel</td>\n",
       "      <td>Hyderabad</td>\n",
       "      <td>2011</td>\n",
       "      <td>47000</td>\n",
       "      <td>Diesel</td>\n",
       "      <td>Manual</td>\n",
       "      <td>First</td>\n",
       "      <td>25.44 kmpl</td>\n",
       "      <td>936 CC</td>\n",
       "      <td>57.6 bhp</td>\n",
       "      <td>5.0</td>\n",
       "      <td>NaN</td>\n",
       "      <td>2.50</td>\n",
       "    </tr>\n",
       "  </tbody>\n",
       "</table>\n",
       "<p>5847 rows × 14 columns</p>\n",
       "</div>"
      ],
      "text/plain": [
       "      Unnamed: 0                              Name    Location  Year  \\\n",
       "0              1  Hyundai Creta 1.6 CRDi SX Option        Pune  2015   \n",
       "1              2                      Honda Jazz V     Chennai  2011   \n",
       "2              3                 Maruti Ertiga VDI     Chennai  2012   \n",
       "3              4   Audi A4 New 2.0 TDI Multitronic  Coimbatore  2013   \n",
       "4              6            Nissan Micra Diesel XV      Jaipur  2013   \n",
       "...          ...                               ...         ...   ...   \n",
       "5842        6014                  Maruti Swift VDI       Delhi  2014   \n",
       "5843        6015          Hyundai Xcent 1.1 CRDi S      Jaipur  2015   \n",
       "5844        6016             Mahindra Xylo D4 BSIV      Jaipur  2012   \n",
       "5845        6017                Maruti Wagon R VXI     Kolkata  2013   \n",
       "5846        6018             Chevrolet Beat Diesel   Hyderabad  2011   \n",
       "\n",
       "      Kilometers_Driven Fuel_Type Transmission Owner_Type     Mileage  \\\n",
       "0                 41000    Diesel       Manual      First  19.67 kmpl   \n",
       "1                 46000    Petrol       Manual      First    13 km/kg   \n",
       "2                 87000    Diesel       Manual      First  20.77 kmpl   \n",
       "3                 40670    Diesel    Automatic     Second   15.2 kmpl   \n",
       "4                 86999    Diesel       Manual      First  23.08 kmpl   \n",
       "...                 ...       ...          ...        ...         ...   \n",
       "5842              27365    Diesel       Manual      First   28.4 kmpl   \n",
       "5843             100000    Diesel       Manual      First   24.4 kmpl   \n",
       "5844              55000    Diesel       Manual     Second   14.0 kmpl   \n",
       "5845              46000    Petrol       Manual      First   18.9 kmpl   \n",
       "5846              47000    Diesel       Manual      First  25.44 kmpl   \n",
       "\n",
       "       Engine      Power  Seats  New_Price  Price  \n",
       "0     1582 CC  126.2 bhp    5.0        NaN  12.50  \n",
       "1     1199 CC   88.7 bhp    5.0  8.61 Lakh   4.50  \n",
       "2     1248 CC  88.76 bhp    7.0        NaN   6.00  \n",
       "3     1968 CC  140.8 bhp    5.0        NaN  17.74  \n",
       "4     1461 CC   63.1 bhp    5.0        NaN   3.50  \n",
       "...       ...        ...    ...        ...    ...  \n",
       "5842  1248 CC     74 bhp    5.0  7.88 Lakh   4.75  \n",
       "5843  1120 CC     71 bhp    5.0        NaN   4.00  \n",
       "5844  2498 CC    112 bhp    8.0        NaN   2.90  \n",
       "5845   998 CC   67.1 bhp    5.0        NaN   2.65  \n",
       "5846   936 CC   57.6 bhp    5.0        NaN   2.50  \n",
       "\n",
       "[5847 rows x 14 columns]"
      ]
     },
     "execution_count": 159,
     "metadata": {},
     "output_type": "execute_result"
    }
   ],
   "source": [
    "df_cars"
   ]
  },
  {
   "cell_type": "code",
   "execution_count": 160,
   "id": "1fdb36d6-d5e9-4022-bb02-8210cbb4910c",
   "metadata": {},
   "outputs": [],
   "source": [
    "# Checking for missing values in the entire dataset\n",
    "missing_values = df_cars.isnull().sum()"
   ]
  },
  {
   "cell_type": "code",
   "execution_count": 161,
   "id": "acb22d9a-991b-4120-a1b9-414cb6a5cd25",
   "metadata": {},
   "outputs": [],
   "source": [
    "# List the variables with numeric datatype that has missing values\n",
    "missing_vars_numeric = list(missing_values[missing_values > 0].index)"
   ]
  },
  {
   "cell_type": "code",
   "execution_count": 162,
   "id": "3030c5b1-13f9-43fb-8150-08a6db81a903",
   "metadata": {},
   "outputs": [
    {
     "name": "stdout",
     "output_type": "stream",
     "text": [
      "Unnamed: 0              0\n",
      "Name                    0\n",
      "Location                0\n",
      "Year                    0\n",
      "Kilometers_Driven       0\n",
      "Fuel_Type               0\n",
      "Transmission            0\n",
      "Owner_Type              0\n",
      "Mileage                 2\n",
      "Engine                 36\n",
      "Power                  36\n",
      "Seats                  38\n",
      "New_Price            5032\n",
      "Price                   0\n",
      "dtype: int64\n"
     ]
    }
   ],
   "source": [
    "# Display the number of missing values for  columns with numeric datatype\n",
    "print(missing_values)"
   ]
  },
  {
   "cell_type": "code",
   "execution_count": 163,
   "id": "418ff1f1-35f0-4e0c-b356-a1f65f030701",
   "metadata": {},
   "outputs": [],
   "source": [
    "# Identify and count missing values in columns that has character datatype\n",
    "missing_values_character = df_cars.select_dtypes(include=['object']).isnull().sum()"
   ]
  },
  {
   "cell_type": "code",
   "execution_count": 164,
   "id": "1fe10d3b-a765-496c-a00f-f79f5870487f",
   "metadata": {},
   "outputs": [
    {
     "name": "stdout",
     "output_type": "stream",
     "text": [
      "Name               0\n",
      "Location           0\n",
      "Fuel_Type          0\n",
      "Transmission       0\n",
      "Owner_Type         0\n",
      "Mileage            2\n",
      "Engine            36\n",
      "Power             36\n",
      "New_Price       5032\n",
      "dtype: int64\n"
     ]
    }
   ],
   "source": [
    "# Display the number of missing values in columns that has character datatype\n",
    "print(missing_values_character)"
   ]
  },
  {
   "cell_type": "code",
   "execution_count": 165,
   "id": "6c7e51d6-0a5a-4bf2-b7a0-df444b015f42",
   "metadata": {},
   "outputs": [],
   "source": [
    "#b.Remove the units from some of the attributes and only keep the numerical values (for example remove kmpl from “Mileage”, CC from “Engine”, bhp from “Power”, and lakh from “New_price”). \n",
    "# Cleaning non-numeric values in the specified columns before imputing them with mean, meadin or mode\n",
    "df_cars['Mileage'] = df_cars['Mileage'].str.replace('[^0-9.]', '', regex=True).astype(float)\n",
    "df_cars['Engine'] = df_cars['Engine'].str.replace('[^0-9.]', '', regex=True).astype(float)\n",
    "df_cars['Power'] = df_cars['Power'].str.replace('[^0-9.]', '', regex=True).astype(float)\n",
    "df_cars['New_Price'] = df_cars['New_Price'].str.replace('[^0-9.]', '', regex=True).astype(float)"
   ]
  },
  {
   "cell_type": "code",
   "execution_count": 166,
   "id": "d00652a2-5fd0-495e-99ad-1946dd3eacff",
   "metadata": {},
   "outputs": [
    {
     "name": "stdout",
     "output_type": "stream",
     "text": [
      "        Unnamed: 0         Year  Kilometers_Driven      Mileage       Engine  \\\n",
      "count  5847.000000  5847.000000       5.847000e+03  5845.000000  5811.000000   \n",
      "mean   3013.181461  2013.448435       5.841013e+04    18.158496  1631.552573   \n",
      "std    1736.398890     3.194949       9.237971e+04     4.358246   601.972587   \n",
      "min       1.000000  1998.000000       1.710000e+02     0.000000    72.000000   \n",
      "25%    1509.500000  2012.000000       3.346750e+04    15.260000  1198.000000   \n",
      "50%    3015.000000  2014.000000       5.257600e+04    18.190000  1497.000000   \n",
      "75%    4517.500000  2016.000000       7.249050e+04    21.100000  1991.000000   \n",
      "max    6018.000000  2019.000000       6.500000e+06    28.400000  5998.000000   \n",
      "\n",
      "             Power        Seats   New_Price        Price  \n",
      "count  5811.000000  5809.000000  815.000000  5847.000000  \n",
      "mean    113.803144     5.286452   20.484564     9.653742  \n",
      "std      53.896719     0.806668   20.248764    11.275966  \n",
      "min      34.200000     2.000000    1.000000     0.440000  \n",
      "25%      78.000000     5.000000    7.880000     3.550000  \n",
      "50%      98.600000     5.000000   11.480000     5.750000  \n",
      "75%     139.010000     5.000000   24.015000    10.250000  \n",
      "max     560.000000    10.000000   99.920000   160.000000  \n"
     ]
    }
   ],
   "source": [
    "# Print the summary of the data\n",
    "print(df_cars.describe())"
   ]
  },
  {
   "cell_type": "code",
   "execution_count": 167,
   "id": "d46d03d5-40ad-481f-bdcb-bc8e9a14c818",
   "metadata": {},
   "outputs": [],
   "source": [
    "# Drop the first column which is just a row number\n",
    "df_cars = df_cars.iloc[:, 1:]"
   ]
  },
  {
   "cell_type": "code",
   "execution_count": 168,
   "id": "0a0925c8-5ff3-45dd-a0f8-f8acb24c33a0",
   "metadata": {},
   "outputs": [],
   "source": [
    "# Drop the \"New_Price\" column because it has more than 50% missing values\n",
    "df_cars = df_cars.drop('New_Price', axis=1)"
   ]
  },
  {
   "cell_type": "code",
   "execution_count": 169,
   "id": "404fe582-1df8-4e4c-b3d6-3b000d7ab35b",
   "metadata": {},
   "outputs": [],
   "source": [
    "# Impute missing values with the mean for numeric columns\n",
    "numeric_cols = df_cars.select_dtypes(include=['float64', 'int64']).columns\n",
    "df_cars[numeric_cols] = df_cars[numeric_cols].fillna(df_cars[numeric_cols].mean())"
   ]
  },
  {
   "cell_type": "code",
   "execution_count": 170,
   "id": "994c9a6d-3269-4674-a43d-f18fa812ada8",
   "metadata": {},
   "outputs": [],
   "source": [
    "# Round all numeric values to two decimal places\n",
    "df_cars[numeric_cols] = df_cars[numeric_cols].apply(lambda x: x.round(2))"
   ]
  },
  {
   "cell_type": "code",
   "execution_count": 171,
   "id": "bc5f6726-74b1-441d-a779-07ab86daab0d",
   "metadata": {},
   "outputs": [],
   "source": [
    "# Impute missing values with the mode for character columns\n",
    "character_cols = df_cars.select_dtypes(include=['object']).columns\n",
    "df_cars[character_cols] = df_cars[character_cols].fillna(df_cars[character_cols].mode().iloc[0])"
   ]
  },
  {
   "cell_type": "code",
   "execution_count": 172,
   "id": "4a64932d-677f-4b10-a9d1-6e8d4611fd7f",
   "metadata": {},
   "outputs": [
    {
     "name": "stdout",
     "output_type": "stream",
     "text": [
      "Name                 0\n",
      "Location             0\n",
      "Year                 0\n",
      "Kilometers_Driven    0\n",
      "Fuel_Type            0\n",
      "Transmission         0\n",
      "Owner_Type           0\n",
      "Mileage              0\n",
      "Engine               0\n",
      "Power                0\n",
      "Seats                0\n",
      "Price                0\n",
      "dtype: int64\n"
     ]
    }
   ],
   "source": [
    "# Verify that missing values have been correctly imputed\n",
    "missing_values_handle = df_cars.isnull().sum()\n",
    "print(missing_values_handle)"
   ]
  },
  {
   "cell_type": "code",
   "execution_count": 173,
   "id": "0c249657-35d0-4b23-b150-6f06c2f47b66",
   "metadata": {},
   "outputs": [],
   "source": [
    "# Write the cleaned data to a new file\n",
    "df_cars.to_csv(\"/Users/deekshithm/Desktop/PDS/Assignment 2/clean_cars_data/clean_cars_data.csv\", index=False)"
   ]
  },
  {
   "cell_type": "code",
   "execution_count": null,
   "id": "e12f715c-23d7-47b0-bc2d-440bdbd0455f",
   "metadata": {},
   "outputs": [],
   "source": []
  },
  {
   "cell_type": "code",
   "execution_count": null,
   "id": "375849dc-5a11-45a4-bd12-d8ab369f67aa",
   "metadata": {},
   "outputs": [],
   "source": []
  }
 ],
 "metadata": {
  "kernelspec": {
   "display_name": "Python 3 (ipykernel)",
   "language": "python",
   "name": "python3"
  },
  "language_info": {
   "codemirror_mode": {
    "name": "ipython",
    "version": 3
   },
   "file_extension": ".py",
   "mimetype": "text/x-python",
   "name": "python",
   "nbconvert_exporter": "python",
   "pygments_lexer": "ipython3",
   "version": "3.11.5"
  }
 },
 "nbformat": 4,
 "nbformat_minor": 5
}
