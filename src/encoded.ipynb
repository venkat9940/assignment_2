{
 "cells": [
  {
   "cell_type": "code",
   "execution_count": 20,
   "id": "c548b36b-27f1-401e-bb1c-44f857f8418a",
   "metadata": {},
   "outputs": [],
   "source": [
    "import pandas as pd"
   ]
  },
  {
   "cell_type": "code",
   "execution_count": 21,
   "id": "cdacac33-bf43-48bc-a4ef-f15d379645bf",
   "metadata": {},
   "outputs": [],
   "source": [
    "# Load the cleaned dataset\n",
    "df = pd.read_csv('/Users/deekshithm/Desktop/PDS/Assignment 2/clean_cars_data/clean_cars_data.csv')"
   ]
  },
  {
   "cell_type": "code",
   "execution_count": 25,
   "id": "3f9e287a-a8d9-4d5f-bd08-153f626fbd96",
   "metadata": {},
   "outputs": [
    {
     "name": "stdout",
     "output_type": "stream",
     "text": [
      "                               Name    Location  Year  Kilometers_Driven  \\\n",
      "0  Hyundai Creta 1.6 CRDi SX Option        Pune  2015              41000   \n",
      "1                      Honda Jazz V     Chennai  2011              46000   \n",
      "2                 Maruti Ertiga VDI     Chennai  2012              87000   \n",
      "3   Audi A4 New 2.0 TDI Multitronic  Coimbatore  2013              40670   \n",
      "4            Nissan Micra Diesel XV      Jaipur  2013              86999   \n",
      "\n",
      "   Fuel_Type  Transmission Owner_Type  Mileage  Engine   Power  Seats  Price  \n",
      "0          0             1      First    19.67  1582.0  126.20    5.0  12.50  \n",
      "1          1             1      First    13.00  1199.0   88.70    5.0   4.50  \n",
      "2          0             1      First    20.77  1248.0   88.76    7.0   6.00  \n",
      "3          0             0     Second    15.20  1968.0  140.80    5.0  17.74  \n",
      "4          0             1      First    23.08  1461.0   63.10    5.0   3.50  \n"
     ]
    }
   ],
   "source": [
    "# Perform one-hot encoding within the same columns\n",
    "df[['Fuel_Type', 'Transmission']] = df[['Fuel_Type', 'Transmission']].apply(lambda x: (x == \"Petrol\").astype(int) | (x == \"Manual\").astype(int))\n",
    "# View the dataset with one-hot encoded values\n",
    "print(df.head())"
   ]
  },
  {
   "cell_type": "code",
   "execution_count": 26,
   "id": "70c1a402-c3b3-4609-8c77-713c26957494",
   "metadata": {},
   "outputs": [],
   "source": [
    "# Write the data with one-hot encoded values to a new file\n",
    "df.to_csv('/Users/deekshithm/Desktop/PDS/Assignment 2/results/results_cars_encoded.csv', index=False)"
   ]
  },
  {
   "cell_type": "code",
   "execution_count": null,
   "id": "a39fc97b-36c4-4256-84f6-a331448c9436",
   "metadata": {},
   "outputs": [],
   "source": []
  }
 ],
 "metadata": {
  "kernelspec": {
   "display_name": "Python 3 (ipykernel)",
   "language": "python",
   "name": "python3"
  },
  "language_info": {
   "codemirror_mode": {
    "name": "ipython",
    "version": 3
   },
   "file_extension": ".py",
   "mimetype": "text/x-python",
   "name": "python",
   "nbconvert_exporter": "python",
   "pygments_lexer": "ipython3",
   "version": "3.11.5"
  }
 },
 "nbformat": 4,
 "nbformat_minor": 5
}
